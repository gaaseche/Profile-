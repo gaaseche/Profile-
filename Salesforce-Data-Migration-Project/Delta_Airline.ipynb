{
  "nbformat": 4,
  "nbformat_minor": 0,
  "metadata": {
    "colab": {
      "provenance": [],
      "authorship_tag": "ABX9TyOvEJHpG8gMgKWtyNjCl2h8",
      "include_colab_link": true
    },
    "kernelspec": {
      "name": "python3",
      "display_name": "Python 3"
    },
    "language_info": {
      "name": "python"
    }
  },
  "cells": [
    {
      "cell_type": "markdown",
      "metadata": {
        "id": "view-in-github",
        "colab_type": "text"
      },
      "source": [
        "<a href=\"https://colab.research.google.com/github/gaaseche/Profile-/blob/main/Delta_Airline.ipynb\" target=\"_parent\"><img src=\"https://colab.research.google.com/assets/colab-badge.svg\" alt=\"Open In Colab\"/></a>"
      ]
    },
    {
      "cell_type": "code",
      "execution_count": null,
      "metadata": {
        "id": "1xRqDVJi0iC-"
      },
      "outputs": [],
      "source": []
    },
    {
      "cell_type": "markdown",
      "source": [
        "**Business context**:\n",
        "\n",
        "The dataset supports Delta Airlines’ efforts to enhance customer loyalty and operational efficiency by analyzing frequent flier behaviors, upcoming flight demands, and short-term occupancy trends. Key goals include improving personalized customer experiences, optimizing resource allocation, and maximizing ancillary revenue through tailored add-ons. This data-driven approach aids in strategic planning for customer retention and revenue growth. (ChatGPT)"
      ],
      "metadata": {
        "id": "DZ3tQQ9g5BD-"
      }
    },
    {
      "cell_type": "markdown",
      "source": [
        "**Structure**:\n",
        "\n",
        "The dataset comprises three sheets with various structures:\n",
        "\n",
        "1. Frequent Flier Raw: Contains frequent flier information such as \"Frequent Flier Number,\" \"Join Date,\" \"First Name,\" etc., with a few columns needing renaming and structural adjustments.\n",
        "\n",
        "2. Flier Upcoming Flights Raw: Tracks upcoming flights for each flier, including \"Join Date,\" \"Frequent Flier Number,\" \"Flight Date,\" and related travel details. This sheet shows potential format inconsistencies in columns like \"Cost,\" and issues in time zones.\n",
        "\n",
        "3. 3 Month Upcoming Flights Raw: Details flights within the next three months, with flight times and city information. Here, time formatting inconsistencies and minor data entry errors are evident."
      ],
      "metadata": {
        "id": "BpQkWuIx7C1u"
      }
    },
    {
      "cell_type": "markdown",
      "source": [
        "**Approach:**\n",
        "\n",
        "1. Detect Missing Data: Identify and handle any null values appropriately.\n",
        "2. Correct Inconsistencies: Standardize formats, resolve data types, and correct structural inconsistencies.\n",
        "3. Remove Duplicates: If any duplicate records exist, we will remove them.\n",
        "4. Document All Changes: Create a detailed record of each data cleaning step.\n"
      ],
      "metadata": {
        "id": "Fo8DHMXT7RTU"
      }
    },
    {
      "cell_type": "markdown",
      "source": [
        "# **Step 1: Setup and File Upload**"
      ],
      "metadata": {
        "id": "BhZE1-Gu_Lix"
      }
    },
    {
      "cell_type": "code",
      "source": [
        "!pip install openpyxl\n",
        "import pandas as pd\n",
        "import numpy as np\n",
        "from google.colab import files\n",
        "uploaded = files.upload()\n",
        "\n"
      ],
      "metadata": {
        "colab": {
          "base_uri": "https://localhost:8080/",
          "height": 107
        },
        "id": "bhVwLBvy9R79",
        "outputId": "77f06214-6536-455d-987a-25875d2d2ab8"
      },
      "execution_count": 38,
      "outputs": [
        {
          "output_type": "stream",
          "name": "stdout",
          "text": [
            "Requirement already satisfied: openpyxl in /usr/local/lib/python3.10/dist-packages (3.1.5)\n",
            "Requirement already satisfied: et-xmlfile in /usr/local/lib/python3.10/dist-packages (from openpyxl) (2.0.0)\n"
          ]
        },
        {
          "output_type": "display_data",
          "data": {
            "text/plain": [
              "<IPython.core.display.HTML object>"
            ],
            "text/html": [
              "\n",
              "     <input type=\"file\" id=\"files-3e13025e-d12e-4da2-b834-77403b2e2837\" name=\"files[]\" multiple disabled\n",
              "        style=\"border:none\" />\n",
              "     <output id=\"result-3e13025e-d12e-4da2-b834-77403b2e2837\">\n",
              "      Upload widget is only available when the cell has been executed in the\n",
              "      current browser session. Please rerun this cell to enable.\n",
              "      </output>\n",
              "      <script>// Copyright 2017 Google LLC\n",
              "//\n",
              "// Licensed under the Apache License, Version 2.0 (the \"License\");\n",
              "// you may not use this file except in compliance with the License.\n",
              "// You may obtain a copy of the License at\n",
              "//\n",
              "//      http://www.apache.org/licenses/LICENSE-2.0\n",
              "//\n",
              "// Unless required by applicable law or agreed to in writing, software\n",
              "// distributed under the License is distributed on an \"AS IS\" BASIS,\n",
              "// WITHOUT WARRANTIES OR CONDITIONS OF ANY KIND, either express or implied.\n",
              "// See the License for the specific language governing permissions and\n",
              "// limitations under the License.\n",
              "\n",
              "/**\n",
              " * @fileoverview Helpers for google.colab Python module.\n",
              " */\n",
              "(function(scope) {\n",
              "function span(text, styleAttributes = {}) {\n",
              "  const element = document.createElement('span');\n",
              "  element.textContent = text;\n",
              "  for (const key of Object.keys(styleAttributes)) {\n",
              "    element.style[key] = styleAttributes[key];\n",
              "  }\n",
              "  return element;\n",
              "}\n",
              "\n",
              "// Max number of bytes which will be uploaded at a time.\n",
              "const MAX_PAYLOAD_SIZE = 100 * 1024;\n",
              "\n",
              "function _uploadFiles(inputId, outputId) {\n",
              "  const steps = uploadFilesStep(inputId, outputId);\n",
              "  const outputElement = document.getElementById(outputId);\n",
              "  // Cache steps on the outputElement to make it available for the next call\n",
              "  // to uploadFilesContinue from Python.\n",
              "  outputElement.steps = steps;\n",
              "\n",
              "  return _uploadFilesContinue(outputId);\n",
              "}\n",
              "\n",
              "// This is roughly an async generator (not supported in the browser yet),\n",
              "// where there are multiple asynchronous steps and the Python side is going\n",
              "// to poll for completion of each step.\n",
              "// This uses a Promise to block the python side on completion of each step,\n",
              "// then passes the result of the previous step as the input to the next step.\n",
              "function _uploadFilesContinue(outputId) {\n",
              "  const outputElement = document.getElementById(outputId);\n",
              "  const steps = outputElement.steps;\n",
              "\n",
              "  const next = steps.next(outputElement.lastPromiseValue);\n",
              "  return Promise.resolve(next.value.promise).then((value) => {\n",
              "    // Cache the last promise value to make it available to the next\n",
              "    // step of the generator.\n",
              "    outputElement.lastPromiseValue = value;\n",
              "    return next.value.response;\n",
              "  });\n",
              "}\n",
              "\n",
              "/**\n",
              " * Generator function which is called between each async step of the upload\n",
              " * process.\n",
              " * @param {string} inputId Element ID of the input file picker element.\n",
              " * @param {string} outputId Element ID of the output display.\n",
              " * @return {!Iterable<!Object>} Iterable of next steps.\n",
              " */\n",
              "function* uploadFilesStep(inputId, outputId) {\n",
              "  const inputElement = document.getElementById(inputId);\n",
              "  inputElement.disabled = false;\n",
              "\n",
              "  const outputElement = document.getElementById(outputId);\n",
              "  outputElement.innerHTML = '';\n",
              "\n",
              "  const pickedPromise = new Promise((resolve) => {\n",
              "    inputElement.addEventListener('change', (e) => {\n",
              "      resolve(e.target.files);\n",
              "    });\n",
              "  });\n",
              "\n",
              "  const cancel = document.createElement('button');\n",
              "  inputElement.parentElement.appendChild(cancel);\n",
              "  cancel.textContent = 'Cancel upload';\n",
              "  const cancelPromise = new Promise((resolve) => {\n",
              "    cancel.onclick = () => {\n",
              "      resolve(null);\n",
              "    };\n",
              "  });\n",
              "\n",
              "  // Wait for the user to pick the files.\n",
              "  const files = yield {\n",
              "    promise: Promise.race([pickedPromise, cancelPromise]),\n",
              "    response: {\n",
              "      action: 'starting',\n",
              "    }\n",
              "  };\n",
              "\n",
              "  cancel.remove();\n",
              "\n",
              "  // Disable the input element since further picks are not allowed.\n",
              "  inputElement.disabled = true;\n",
              "\n",
              "  if (!files) {\n",
              "    return {\n",
              "      response: {\n",
              "        action: 'complete',\n",
              "      }\n",
              "    };\n",
              "  }\n",
              "\n",
              "  for (const file of files) {\n",
              "    const li = document.createElement('li');\n",
              "    li.append(span(file.name, {fontWeight: 'bold'}));\n",
              "    li.append(span(\n",
              "        `(${file.type || 'n/a'}) - ${file.size} bytes, ` +\n",
              "        `last modified: ${\n",
              "            file.lastModifiedDate ? file.lastModifiedDate.toLocaleDateString() :\n",
              "                                    'n/a'} - `));\n",
              "    const percent = span('0% done');\n",
              "    li.appendChild(percent);\n",
              "\n",
              "    outputElement.appendChild(li);\n",
              "\n",
              "    const fileDataPromise = new Promise((resolve) => {\n",
              "      const reader = new FileReader();\n",
              "      reader.onload = (e) => {\n",
              "        resolve(e.target.result);\n",
              "      };\n",
              "      reader.readAsArrayBuffer(file);\n",
              "    });\n",
              "    // Wait for the data to be ready.\n",
              "    let fileData = yield {\n",
              "      promise: fileDataPromise,\n",
              "      response: {\n",
              "        action: 'continue',\n",
              "      }\n",
              "    };\n",
              "\n",
              "    // Use a chunked sending to avoid message size limits. See b/62115660.\n",
              "    let position = 0;\n",
              "    do {\n",
              "      const length = Math.min(fileData.byteLength - position, MAX_PAYLOAD_SIZE);\n",
              "      const chunk = new Uint8Array(fileData, position, length);\n",
              "      position += length;\n",
              "\n",
              "      const base64 = btoa(String.fromCharCode.apply(null, chunk));\n",
              "      yield {\n",
              "        response: {\n",
              "          action: 'append',\n",
              "          file: file.name,\n",
              "          data: base64,\n",
              "        },\n",
              "      };\n",
              "\n",
              "      let percentDone = fileData.byteLength === 0 ?\n",
              "          100 :\n",
              "          Math.round((position / fileData.byteLength) * 100);\n",
              "      percent.textContent = `${percentDone}% done`;\n",
              "\n",
              "    } while (position < fileData.byteLength);\n",
              "  }\n",
              "\n",
              "  // All done.\n",
              "  yield {\n",
              "    response: {\n",
              "      action: 'complete',\n",
              "    }\n",
              "  };\n",
              "}\n",
              "\n",
              "scope.google = scope.google || {};\n",
              "scope.google.colab = scope.google.colab || {};\n",
              "scope.google.colab._files = {\n",
              "  _uploadFiles,\n",
              "  _uploadFilesContinue,\n",
              "};\n",
              "})(self);\n",
              "</script> "
            ]
          },
          "metadata": {}
        },
        {
          "output_type": "stream",
          "name": "stdout",
          "text": [
            "Saving Delta Airlines Loyalty Customer Raw Data.xlsx to Delta Airlines Loyalty Customer Raw Data (2).xlsx\n"
          ]
        }
      ]
    },
    {
      "cell_type": "markdown",
      "source": [
        "# **Step 2: Load the Excel File and Inspect the Structure**"
      ],
      "metadata": {
        "id": "kSAUP5SV_fYh"
      }
    },
    {
      "cell_type": "markdown",
      "source": [
        "Replace 'Your_File_Name.xlsx' with the actual file name shown after upload"
      ],
      "metadata": {
        "id": "8dEgYndm_jhS"
      }
    },
    {
      "cell_type": "code",
      "source": [
        "file_path = 'Delta Airlines Loyalty Customer Raw Data.xlsx'\n",
        "excel_data = pd.ExcelFile(file_path)\n"
      ],
      "metadata": {
        "id": "STk4XirF_6--"
      },
      "execution_count": 82,
      "outputs": []
    },
    {
      "cell_type": "markdown",
      "source": [
        "Check the available sheet names"
      ],
      "metadata": {
        "id": "ze1WPQ2pAK0t"
      }
    },
    {
      "cell_type": "code",
      "source": [
        "sheet_names = excel_data.sheet_names\n",
        "print(sheet_names)"
      ],
      "metadata": {
        "colab": {
          "base_uri": "https://localhost:8080/"
        },
        "id": "EzJE8zriANPs",
        "outputId": "5661a753-9f5c-4759-85b7-0df04a94e9c7"
      },
      "execution_count": 83,
      "outputs": [
        {
          "output_type": "stream",
          "name": "stdout",
          "text": [
            "['Frequent Flier Raw', 'Flier Upcoming Flights Raw', '3 Month Upcoming Flights Raw']\n"
          ]
        }
      ]
    },
    {
      "cell_type": "markdown",
      "source": [
        "Load Each Sheet into a DataFra\n",
        "\n"
      ],
      "metadata": {
        "id": "czyFzKobAio5"
      }
    },
    {
      "cell_type": "code",
      "source": [
        "# Load the first sheet with header set to the second row to skip any instructional row\n",
        "flier_raw_df = excel_data.parse('Frequent Flier Raw', header=1)\n",
        "upcoming_flights_df = excel_data.parse('Flier Upcoming Flights Raw')\n",
        "three_month_flights_df = excel_data.parse('3 Month Upcoming Flights Raw')\n"
      ],
      "metadata": {
        "id": "CDL1talF3FpN"
      },
      "execution_count": 84,
      "outputs": []
    },
    {
      "cell_type": "markdown",
      "source": [
        "# **Step 3: Initial Data Review**"
      ],
      "metadata": {
        "id": "PQGczt5NAs0Z"
      }
    },
    {
      "cell_type": "markdown",
      "source": [
        "Examine Each DataFrame’s Structure and First Few Rows"
      ],
      "metadata": {
        "id": "q8eOYbjBxIXw"
      }
    },
    {
      "cell_type": "code",
      "source": [
        "print(flier_raw_df.head())\n",
        "print(upcoming_flights_df.head())\n",
        "print(three_month_flights_df.head())\n"
      ],
      "metadata": {
        "colab": {
          "base_uri": "https://localhost:8080/"
        },
        "id": "a-xtlWSK4Xek",
        "outputId": "eb72c935-28a1-47af-a03c-bad9952979ab"
      },
      "execution_count": 85,
      "outputs": [
        {
          "output_type": "stream",
          "name": "stdout",
          "text": [
            "  Record Creation   Frequent Flier Number            Join Date First Name  \\\n",
            "0       2024-02-27           7.234618e+09  1988-07-08 00:00:00     debbie   \n",
            "1       2021-03-07           7.234618e+09  1988-07-08 00:00:00     debbie   \n",
            "2       2023-01-31           7.234618e+09  1988-07-08 00:00:00     debbie   \n",
            "3       2021-08-21           5.511217e+08  2022-06-16 00:00:00       kyle   \n",
            "4       2022-03-01           5.511217e+08           16-06-2022       KYLE   \n",
            "\n",
            "  Last Name   Inquiry Type Most Recent Flight #  Lounge Used?  \\\n",
            "0    spears  Flight Status            G35206241           0.0   \n",
            "1    Spears     New Flight            V81311927           1.0   \n",
            "2    spears  Cancel Flight            H82295055           0.0   \n",
            "3     Boone     New Flight            E39886834           1.0   \n",
            "4     Boone     New Flight            R04390271           NaN   \n",
            "\n",
            "  Departing Airport Arrival Airport  Planned Snack?  Additional Snack?  \\\n",
            "0               DFW             DEN             0.0                1.0   \n",
            "1               JFK             SFO             0.0                1.0   \n",
            "2               MIA             ORD             0.0                0.0   \n",
            "3               ttt             NaN             0.0                1.0   \n",
            "4               SFO             DFW             0.0                0.0   \n",
            "\n",
            "   # of Included Checked Bags  Total # of Checked Bags  Flight Delayed?  \n",
            "0                         0.0                     16.0              1.0  \n",
            "1                         1.0                     21.0              0.0  \n",
            "2                         7.0                      5.0              1.0  \n",
            "3                         NaN                      8.0              0.0  \n",
            "4                         3.0                     17.0              0.0  \n",
            "             Join Date  Frequent Flier Number First Name  Last Name  \\\n",
            "0  2009-10-07 00:00:00             9531726184      Megan      Brown   \n",
            "1  1996-07-29 00:00:00             7654154528    William        Lee   \n",
            "2  1990-03-11 00:00:00             1035783281   Courtney     Valdez   \n",
            "3  2002-12-16 00:00:00              787669065       Erik  Schneider   \n",
            "4                  NaN             2871854617  Alexander    Johnson   \n",
            "\n",
            "  Flight Number          Flight Date Departing City Arrival City  \\\n",
            "0        DL7263  2024-11-04 00:00:00         Berlin        Miaml   \n",
            "1        DL685k  2024-11-04 00:00:00          Dubai    Hong Kong   \n",
            "2        DL8569  2025-01-03 00:00:00        Houston        Paris   \n",
            "3        DL7894  2025-07-21 00:00:00       New York        Miami   \n",
            "4        DL6365  2025-01-21 00:00:00         Dallas     New York   \n",
            "\n",
            "  Departure Time Arrival Time Departure Time Zone Arrival Time Zone  \\\n",
            "0       04:38:00     09:38:00                 UTC               CST   \n",
            "1       22:38:00     08:38:00                 UTC               UTk   \n",
            "2       00:38:00     10:38:00                 PST               UTC   \n",
            "3       23:38:00     10:38:00                 EST               PSy   \n",
            "4       02:38:00     04:38:00                 CST               EST   \n",
            "\n",
            "         Cost Car Rental Addon $ Hotel Addon $  \n",
            "0  998.55 BRL          197.5 BRL    419.24 BRL  \n",
            "1  283.62 AUD         256.04 AUD           302  \n",
            "2  335.82 GBP         117.56 GBP    263.57 GBP  \n",
            "3  686.64 USD          77.29 USD    197.77 USD  \n",
            "4  601.82 USD         161.71 USD    197.69 USD  \n",
            "  Flight_ID          Flight Date Departure City   Arrival City Departure Time  \\\n",
            "0   FL22499  2024-09-11 00:00:00         Dallas         Berlin          22:4j   \n",
            "1   FL62773  2024-11-06 00:00:00         Sydney      Hong Kong       05:46:00   \n",
            "2   FL96338  2024-09-12 00:00:00    Los Angeleu        Atlanta       06:46:00   \n",
            "3   FL85371  2024-09-20 00:00:00  San Francisco          Tokyo       07:46:00   \n",
            "4   FL65244  2024-10-02 00:00:00          Miami  San Francisco       10:46:00   \n",
            "\n",
            "  Arrival Time Departure Time Zone Arrival Time Zone          Airline  \\\n",
            "0     01:46:00                 NaN               UTC            Delta   \n",
            "1     12:46:00                 UTC               UTC        Lufthansa   \n",
            "2     17:46:00                 PST               MST        Lufthansa   \n",
            "3        13:4l                 UTC               UTC  British Airways   \n",
            "4     20:46:00                 PST               UTC       Air Canada   \n",
            "\n",
            "  Flight Number  ... Baggage Allowance Flight Duration               Layovers  \\\n",
            "0        Un5086  ...            2 bags         8 hours                    NaN   \n",
            "1        Qa2994  ...            2 bags         6 hours    Toronto for 3 hours   \n",
            "2        Em9455  ...            2 bags        15 hourj                    NaN   \n",
            "3        Br6054  ...            1 bags        15 hours                    NaN   \n",
            "4        Br3533  ...            3 bags         9 hours  Hong Kong for 5 hours   \n",
            "\n",
            "   Cancellation Policy Booking Window    Meal Options In-Flight Entertainment  \\\n",
            "0           Refundable         6 days     Gluten-Free                  Movies   \n",
            "1           Refundable         9 days  Non-Vegetarian                  Movies   \n",
            "2       Non-Refundable        18 days     Gluten-Free                     NaN   \n",
            "3                  NaN        19 days  Non-Vegetarian                  Movies   \n",
            "4       Non-Refundable        10 days  Non-Vegetarian                  Movies   \n",
            "\n",
            "  Aircraft Type Flight Status Loyalty Points Earned  \n",
            "0   Airbus A380       On Time                  2274  \n",
            "1    Boeing 787       On Time                  4337  \n",
            "2   Airbus A380       Delayed                   164  \n",
            "3   Airbus A320       Delayed                  2711  \n",
            "4   Airbus A320     Scheduled                  2451  \n",
            "\n",
            "[5 rows x 24 columns]\n"
          ]
        }
      ]
    },
    {
      "cell_type": "markdown",
      "source": [
        "Skip the Instructional Row During Import:"
      ],
      "metadata": {
        "id": "a-As7_v2Hzyp"
      }
    },
    {
      "cell_type": "code",
      "source": [
        "# Print headers for each sheet\n",
        "print(flier_raw_df.columns)\n",
        "print(upcoming_flights_df.columns)\n",
        "print(three_month_flights_df.columns)"
      ],
      "metadata": {
        "colab": {
          "base_uri": "https://localhost:8080/"
        },
        "id": "2XP5W5YcJ7VU",
        "outputId": "bb2d3bc9-1b18-44e6-f78f-1f6bedf2817c"
      },
      "execution_count": 86,
      "outputs": [
        {
          "output_type": "stream",
          "name": "stdout",
          "text": [
            "Index(['Record Creation ', 'Frequent Flier Number', 'Join Date', 'First Name',\n",
            "       'Last Name', 'Inquiry Type', 'Most Recent Flight #', 'Lounge Used?',\n",
            "       'Departing Airport', 'Arrival Airport', 'Planned Snack?',\n",
            "       'Additional Snack?', '# of Included Checked Bags',\n",
            "       'Total # of Checked Bags', 'Flight Delayed?'],\n",
            "      dtype='object')\n",
            "Index(['Join Date', 'Frequent Flier Number', 'First Name', 'Last Name',\n",
            "       'Flight Number', 'Flight Date', 'Departing City', 'Arrival City',\n",
            "       'Departure Time', 'Arrival Time', 'Departure Time Zone',\n",
            "       'Arrival Time Zone', 'Cost', 'Car Rental Addon $', 'Hotel Addon $'],\n",
            "      dtype='object')\n",
            "Index(['Flight_ID', 'Flight Date', 'Departure City', 'Arrival City',\n",
            "       'Departure Time', 'Arrival Time', 'Departure Time Zone',\n",
            "       'Arrival Time Zone', 'Airline', 'Flight Number', 'Seat Class', 'Price',\n",
            "       'Currency', 'Available Seats', 'Baggage Allowance', 'Flight Duration',\n",
            "       'Layovers', 'Cancellation Policy', 'Booking Window', 'Meal Options',\n",
            "       'In-Flight Entertainment', 'Aircraft Type', 'Flight Status',\n",
            "       'Loyalty Points Earned'],\n",
            "      dtype='object')\n"
          ]
        }
      ]
    },
    {
      "cell_type": "code",
      "source": [
        "# Print the number of rows for each sheet\n",
        "print(\"Number of rows in 'Frequent Flier Raw':\", flier_raw_df.shape[0])\n",
        "print(\"Number of rows in 'Flier Upcoming Flights Raw':\", upcoming_flights_df.shape[0])\n",
        "print(\"Number of rows in '3 Month Upcoming Flights Raw':\", three_month_flights_df.shape[0])"
      ],
      "metadata": {
        "colab": {
          "base_uri": "https://localhost:8080/"
        },
        "id": "_UVzaH_ALH-P",
        "outputId": "cab44745-7b86-4caf-b49b-4497e4844f19"
      },
      "execution_count": 87,
      "outputs": [
        {
          "output_type": "stream",
          "name": "stdout",
          "text": [
            "Number of rows in 'Frequent Flier Raw': 9672\n",
            "Number of rows in 'Flier Upcoming Flights Raw': 15078\n",
            "Number of rows in '3 Month Upcoming Flights Raw': 20000\n"
          ]
        }
      ]
    },
    {
      "cell_type": "code",
      "source": [
        "# Inspect column names and data types, and count missing values for each DataFrame\n",
        "print(\"Columns and Info for 'Frequent Flier Raw':\")\n",
        "print(flier_raw_df.info())\n",
        "print(f\"\\nMissing Values:\\n{flier_raw_df.isnull().sum()}\")\n",
        "\n",
        "print(\"\\nColumns and Info for 'Flier Upcoming Flights Raw':\")\n",
        "print(upcoming_flights_df.info())\n",
        "print(f\"\\nMissing Values:\\n{upcoming_flights_df.isnull().sum()}\")\n",
        "\n",
        "print(\"\\nColumns and Info for '3 Month Upcoming Flights Raw':\")\n",
        "print(three_month_flights_df.info())\n",
        "print(f\"\\nMissing Values:\\n{three_month_flights_df.isnull().sum()}\")\n",
        "\n"
      ],
      "metadata": {
        "colab": {
          "base_uri": "https://localhost:8080/"
        },
        "id": "xW3IsUWGPGtI",
        "outputId": "4ee8ba43-78e6-4005-a65a-bc7a0a337bd5"
      },
      "execution_count": 88,
      "outputs": [
        {
          "output_type": "stream",
          "name": "stdout",
          "text": [
            "Columns and Info for 'Frequent Flier Raw':\n",
            "<class 'pandas.core.frame.DataFrame'>\n",
            "RangeIndex: 9672 entries, 0 to 9671\n",
            "Data columns (total 15 columns):\n",
            " #   Column                      Non-Null Count  Dtype         \n",
            "---  ------                      --------------  -----         \n",
            " 0   Record Creation             9211 non-null   datetime64[ns]\n",
            " 1   Frequent Flier Number       9140 non-null   float64       \n",
            " 2   Join Date                   9137 non-null   object        \n",
            " 3   First Name                  9151 non-null   object        \n",
            " 4   Last Name                   9140 non-null   object        \n",
            " 5   Inquiry Type                9151 non-null   object        \n",
            " 6   Most Recent Flight #        9153 non-null   object        \n",
            " 7   Lounge Used?                9148 non-null   float64       \n",
            " 8   Departing Airport           9173 non-null   object        \n",
            " 9   Arrival Airport             9172 non-null   object        \n",
            " 10  Planned Snack?              9143 non-null   float64       \n",
            " 11  Additional Snack?           9132 non-null   float64       \n",
            " 12  # of Included Checked Bags  9424 non-null   float64       \n",
            " 13  Total # of Checked Bags     9139 non-null   float64       \n",
            " 14  Flight Delayed?             9142 non-null   float64       \n",
            "dtypes: datetime64[ns](1), float64(7), object(7)\n",
            "memory usage: 1.1+ MB\n",
            "None\n",
            "\n",
            "Missing Values:\n",
            "Record Creation               461\n",
            "Frequent Flier Number         532\n",
            "Join Date                     535\n",
            "First Name                    521\n",
            "Last Name                     532\n",
            "Inquiry Type                  521\n",
            "Most Recent Flight #          519\n",
            "Lounge Used?                  524\n",
            "Departing Airport             499\n",
            "Arrival Airport               500\n",
            "Planned Snack?                529\n",
            "Additional Snack?             540\n",
            "# of Included Checked Bags    248\n",
            "Total # of Checked Bags       533\n",
            "Flight Delayed?               530\n",
            "dtype: int64\n",
            "\n",
            "Columns and Info for 'Flier Upcoming Flights Raw':\n",
            "<class 'pandas.core.frame.DataFrame'>\n",
            "RangeIndex: 15078 entries, 0 to 15077\n",
            "Data columns (total 15 columns):\n",
            " #   Column                 Non-Null Count  Dtype \n",
            "---  ------                 --------------  ----- \n",
            " 0   Join Date              14325 non-null  object\n",
            " 1   Frequent Flier Number  15078 non-null  int64 \n",
            " 2   First Name             14325 non-null  object\n",
            " 3   Last Name              15078 non-null  object\n",
            " 4   Flight Number          15078 non-null  object\n",
            " 5   Flight Date            15078 non-null  object\n",
            " 6   Departing City         15078 non-null  object\n",
            " 7   Arrival City           14325 non-null  object\n",
            " 8   Departure Time         14325 non-null  object\n",
            " 9   Arrival Time           14325 non-null  object\n",
            " 10  Departure Time Zone    15078 non-null  object\n",
            " 11  Arrival Time Zone      15078 non-null  object\n",
            " 12  Cost                   14325 non-null  object\n",
            " 13  Car Rental Addon $     14325 non-null  object\n",
            " 14  Hotel Addon $          14325 non-null  object\n",
            "dtypes: int64(1), object(14)\n",
            "memory usage: 1.7+ MB\n",
            "None\n",
            "\n",
            "Missing Values:\n",
            "Join Date                753\n",
            "Frequent Flier Number      0\n",
            "First Name               753\n",
            "Last Name                  0\n",
            "Flight Number              0\n",
            "Flight Date                0\n",
            "Departing City             0\n",
            "Arrival City             753\n",
            "Departure Time           753\n",
            "Arrival Time             753\n",
            "Departure Time Zone        0\n",
            "Arrival Time Zone          0\n",
            "Cost                     753\n",
            "Car Rental Addon $       753\n",
            "Hotel Addon $            753\n",
            "dtype: int64\n",
            "\n",
            "Columns and Info for '3 Month Upcoming Flights Raw':\n",
            "<class 'pandas.core.frame.DataFrame'>\n",
            "RangeIndex: 20000 entries, 0 to 19999\n",
            "Data columns (total 24 columns):\n",
            " #   Column                   Non-Null Count  Dtype  \n",
            "---  ------                   --------------  -----  \n",
            " 0   Flight_ID                20000 non-null  object \n",
            " 1   Flight Date              19000 non-null  object \n",
            " 2   Departure City           20000 non-null  object \n",
            " 3   Arrival City             19000 non-null  object \n",
            " 4   Departure Time           19000 non-null  object \n",
            " 5   Arrival Time             20000 non-null  object \n",
            " 6   Departure Time Zone      19000 non-null  object \n",
            " 7   Arrival Time Zone        19000 non-null  object \n",
            " 8   Airline                  20000 non-null  object \n",
            " 9   Flight Number            20000 non-null  object \n",
            " 10  Seat Class               20000 non-null  object \n",
            " 11  Price                    19000 non-null  object \n",
            " 12  Currency                 20000 non-null  object \n",
            " 13  Available Seats          19000 non-null  float64\n",
            " 14  Baggage Allowance        20000 non-null  object \n",
            " 15  Flight Duration          20000 non-null  object \n",
            " 16  Layovers                 10025 non-null  object \n",
            " 17  Cancellation Policy      19000 non-null  object \n",
            " 18  Booking Window           19000 non-null  object \n",
            " 19  Meal Options             20000 non-null  object \n",
            " 20  In-Flight Entertainment  13886 non-null  object \n",
            " 21  Aircraft Type            20000 non-null  object \n",
            " 22  Flight Status            20000 non-null  object \n",
            " 23  Loyalty Points Earned    20000 non-null  int64  \n",
            "dtypes: float64(1), int64(1), object(22)\n",
            "memory usage: 3.7+ MB\n",
            "None\n",
            "\n",
            "Missing Values:\n",
            "Flight_ID                     0\n",
            "Flight Date                1000\n",
            "Departure City                0\n",
            "Arrival City               1000\n",
            "Departure Time             1000\n",
            "Arrival Time                  0\n",
            "Departure Time Zone        1000\n",
            "Arrival Time Zone          1000\n",
            "Airline                       0\n",
            "Flight Number                 0\n",
            "Seat Class                    0\n",
            "Price                      1000\n",
            "Currency                      0\n",
            "Available Seats            1000\n",
            "Baggage Allowance             0\n",
            "Flight Duration               0\n",
            "Layovers                   9975\n",
            "Cancellation Policy        1000\n",
            "Booking Window             1000\n",
            "Meal Options                  0\n",
            "In-Flight Entertainment    6114\n",
            "Aircraft Type                 0\n",
            "Flight Status                 0\n",
            "Loyalty Points Earned         0\n",
            "dtype: int64\n"
          ]
        }
      ]
    },
    {
      "cell_type": "code",
      "source": [
        "# Summary of inspection:\n",
        "# 1. Frequent Flier Data (9,672 rows x 15 cols):\n",
        "#    - ~500 missing values across most cols\n",
        "#    - Mix of datetime, float64, object types\n",
        "#    - Most cols 95% complete\n",
        "\n",
        "# 2. Future Bookings (15,078 rows x 15 cols):\n",
        "#    - 753 missing values in select cols\n",
        "#    - Mostly object types, 1 int col\n",
        "#    - Critical fields (Flight #, Departure) complete\n",
        "\n",
        "# 3. Flight Schedule (20,000 rows x 24 cols):\n",
        "#    - 1,000 missing in key fields\n",
        "#    - Large gaps: Layovers (9,975), Entertainment (6,114)\n",
        "#    - Core flight info (ID, Status, Aircraft) complete\n",
        "#    - Mostly object types, with float64, int64"
      ],
      "metadata": {
        "id": "OigD35VaRLMW"
      },
      "execution_count": 89,
      "outputs": []
    },
    {
      "cell_type": "code",
      "source": [
        "# Print column names to inspect for unexpected characters or spaces\n",
        "print(\"Column names in 'Frequent Flier Raw':\")\n",
        "print(flier_raw_df.columns)\n"
      ],
      "metadata": {
        "colab": {
          "base_uri": "https://localhost:8080/"
        },
        "id": "b84uARxYdnge",
        "outputId": "73e68c02-4b78-44be-bcfb-8bb312db77c7"
      },
      "execution_count": 79,
      "outputs": [
        {
          "output_type": "stream",
          "name": "stdout",
          "text": [
            "Column names in 'Frequent Flier Raw':\n",
            "Index(['Record Creation ', 'Frequent Flier Number', 'Join Date', 'First Name',\n",
            "       'Last Name', 'Inquiry Type', 'Most Recent Flight #', 'Lounge Used?',\n",
            "       'Departing Airport', 'Arrival Airport', 'Planned Snack?',\n",
            "       'Additional Snack?', '# of Included Checked Bags',\n",
            "       'Total # of Checked Bags', 'Flight Delayed?'],\n",
            "      dtype='object')\n"
          ]
        }
      ]
    },
    {
      "cell_type": "code",
      "source": [
        "# Convert date columns to datetime\n",
        "flier_raw_df['Record Creation '] = pd.to_datetime(flier_raw_df['Record Creation'], errors='coerce')\n",
        "flier_raw_df['Join Date'] = pd.to_datetime(flier_raw_df['Join Date'], errors='coerce')\n",
        "\n",
        "# Verify the conversion\n",
        "print(flier_raw_df[['Record Creation', 'Join Date']].dtypes)\n"
      ],
      "metadata": {
        "colab": {
          "base_uri": "https://localhost:8080/",
          "height": 547
        },
        "id": "PwWe8F5RdXMh",
        "outputId": "12773bb3-9a5b-4601-c2e8-7bcd50a15202"
      },
      "execution_count": 90,
      "outputs": [
        {
          "output_type": "error",
          "ename": "KeyError",
          "evalue": "'Record Creation'",
          "traceback": [
            "\u001b[0;31m---------------------------------------------------------------------------\u001b[0m",
            "\u001b[0;31mKeyError\u001b[0m                                  Traceback (most recent call last)",
            "\u001b[0;32m/usr/local/lib/python3.10/dist-packages/pandas/core/indexes/base.py\u001b[0m in \u001b[0;36mget_loc\u001b[0;34m(self, key)\u001b[0m\n\u001b[1;32m   3804\u001b[0m         \u001b[0;32mtry\u001b[0m\u001b[0;34m:\u001b[0m\u001b[0;34m\u001b[0m\u001b[0;34m\u001b[0m\u001b[0m\n\u001b[0;32m-> 3805\u001b[0;31m             \u001b[0;32mreturn\u001b[0m \u001b[0mself\u001b[0m\u001b[0;34m.\u001b[0m\u001b[0m_engine\u001b[0m\u001b[0;34m.\u001b[0m\u001b[0mget_loc\u001b[0m\u001b[0;34m(\u001b[0m\u001b[0mcasted_key\u001b[0m\u001b[0;34m)\u001b[0m\u001b[0;34m\u001b[0m\u001b[0;34m\u001b[0m\u001b[0m\n\u001b[0m\u001b[1;32m   3806\u001b[0m         \u001b[0;32mexcept\u001b[0m \u001b[0mKeyError\u001b[0m \u001b[0;32mas\u001b[0m \u001b[0merr\u001b[0m\u001b[0;34m:\u001b[0m\u001b[0;34m\u001b[0m\u001b[0;34m\u001b[0m\u001b[0m\n",
            "\u001b[0;32mindex.pyx\u001b[0m in \u001b[0;36mpandas._libs.index.IndexEngine.get_loc\u001b[0;34m()\u001b[0m\n",
            "\u001b[0;32mindex.pyx\u001b[0m in \u001b[0;36mpandas._libs.index.IndexEngine.get_loc\u001b[0;34m()\u001b[0m\n",
            "\u001b[0;32mpandas/_libs/hashtable_class_helper.pxi\u001b[0m in \u001b[0;36mpandas._libs.hashtable.PyObjectHashTable.get_item\u001b[0;34m()\u001b[0m\n",
            "\u001b[0;32mpandas/_libs/hashtable_class_helper.pxi\u001b[0m in \u001b[0;36mpandas._libs.hashtable.PyObjectHashTable.get_item\u001b[0;34m()\u001b[0m\n",
            "\u001b[0;31mKeyError\u001b[0m: 'Record Creation'",
            "\nThe above exception was the direct cause of the following exception:\n",
            "\u001b[0;31mKeyError\u001b[0m                                  Traceback (most recent call last)",
            "\u001b[0;32m<ipython-input-90-15ae7e32db51>\u001b[0m in \u001b[0;36m<cell line: 2>\u001b[0;34m()\u001b[0m\n\u001b[1;32m      1\u001b[0m \u001b[0;31m# Convert date columns to datetime\u001b[0m\u001b[0;34m\u001b[0m\u001b[0;34m\u001b[0m\u001b[0m\n\u001b[0;32m----> 2\u001b[0;31m \u001b[0mflier_raw_df\u001b[0m\u001b[0;34m[\u001b[0m\u001b[0;34m'Record Creation '\u001b[0m\u001b[0;34m]\u001b[0m \u001b[0;34m=\u001b[0m \u001b[0mpd\u001b[0m\u001b[0;34m.\u001b[0m\u001b[0mto_datetime\u001b[0m\u001b[0;34m(\u001b[0m\u001b[0mflier_raw_df\u001b[0m\u001b[0;34m[\u001b[0m\u001b[0;34m'Record Creation'\u001b[0m\u001b[0;34m]\u001b[0m\u001b[0;34m,\u001b[0m \u001b[0merrors\u001b[0m\u001b[0;34m=\u001b[0m\u001b[0;34m'coerce'\u001b[0m\u001b[0;34m)\u001b[0m\u001b[0;34m\u001b[0m\u001b[0;34m\u001b[0m\u001b[0m\n\u001b[0m\u001b[1;32m      3\u001b[0m \u001b[0mflier_raw_df\u001b[0m\u001b[0;34m[\u001b[0m\u001b[0;34m'Join Date'\u001b[0m\u001b[0;34m]\u001b[0m \u001b[0;34m=\u001b[0m \u001b[0mpd\u001b[0m\u001b[0;34m.\u001b[0m\u001b[0mto_datetime\u001b[0m\u001b[0;34m(\u001b[0m\u001b[0mflier_raw_df\u001b[0m\u001b[0;34m[\u001b[0m\u001b[0;34m'Join Date'\u001b[0m\u001b[0;34m]\u001b[0m\u001b[0;34m,\u001b[0m \u001b[0merrors\u001b[0m\u001b[0;34m=\u001b[0m\u001b[0;34m'coerce'\u001b[0m\u001b[0;34m)\u001b[0m\u001b[0;34m\u001b[0m\u001b[0;34m\u001b[0m\u001b[0m\n\u001b[1;32m      4\u001b[0m \u001b[0;34m\u001b[0m\u001b[0m\n\u001b[1;32m      5\u001b[0m \u001b[0;31m# Verify the conversion\u001b[0m\u001b[0;34m\u001b[0m\u001b[0;34m\u001b[0m\u001b[0m\n",
            "\u001b[0;32m/usr/local/lib/python3.10/dist-packages/pandas/core/frame.py\u001b[0m in \u001b[0;36m__getitem__\u001b[0;34m(self, key)\u001b[0m\n\u001b[1;32m   4100\u001b[0m             \u001b[0;32mif\u001b[0m \u001b[0mself\u001b[0m\u001b[0;34m.\u001b[0m\u001b[0mcolumns\u001b[0m\u001b[0;34m.\u001b[0m\u001b[0mnlevels\u001b[0m \u001b[0;34m>\u001b[0m \u001b[0;36m1\u001b[0m\u001b[0;34m:\u001b[0m\u001b[0;34m\u001b[0m\u001b[0;34m\u001b[0m\u001b[0m\n\u001b[1;32m   4101\u001b[0m                 \u001b[0;32mreturn\u001b[0m \u001b[0mself\u001b[0m\u001b[0;34m.\u001b[0m\u001b[0m_getitem_multilevel\u001b[0m\u001b[0;34m(\u001b[0m\u001b[0mkey\u001b[0m\u001b[0;34m)\u001b[0m\u001b[0;34m\u001b[0m\u001b[0;34m\u001b[0m\u001b[0m\n\u001b[0;32m-> 4102\u001b[0;31m             \u001b[0mindexer\u001b[0m \u001b[0;34m=\u001b[0m \u001b[0mself\u001b[0m\u001b[0;34m.\u001b[0m\u001b[0mcolumns\u001b[0m\u001b[0;34m.\u001b[0m\u001b[0mget_loc\u001b[0m\u001b[0;34m(\u001b[0m\u001b[0mkey\u001b[0m\u001b[0;34m)\u001b[0m\u001b[0;34m\u001b[0m\u001b[0;34m\u001b[0m\u001b[0m\n\u001b[0m\u001b[1;32m   4103\u001b[0m             \u001b[0;32mif\u001b[0m \u001b[0mis_integer\u001b[0m\u001b[0;34m(\u001b[0m\u001b[0mindexer\u001b[0m\u001b[0;34m)\u001b[0m\u001b[0;34m:\u001b[0m\u001b[0;34m\u001b[0m\u001b[0;34m\u001b[0m\u001b[0m\n\u001b[1;32m   4104\u001b[0m                 \u001b[0mindexer\u001b[0m \u001b[0;34m=\u001b[0m \u001b[0;34m[\u001b[0m\u001b[0mindexer\u001b[0m\u001b[0;34m]\u001b[0m\u001b[0;34m\u001b[0m\u001b[0;34m\u001b[0m\u001b[0m\n",
            "\u001b[0;32m/usr/local/lib/python3.10/dist-packages/pandas/core/indexes/base.py\u001b[0m in \u001b[0;36mget_loc\u001b[0;34m(self, key)\u001b[0m\n\u001b[1;32m   3810\u001b[0m             ):\n\u001b[1;32m   3811\u001b[0m                 \u001b[0;32mraise\u001b[0m \u001b[0mInvalidIndexError\u001b[0m\u001b[0;34m(\u001b[0m\u001b[0mkey\u001b[0m\u001b[0;34m)\u001b[0m\u001b[0;34m\u001b[0m\u001b[0;34m\u001b[0m\u001b[0m\n\u001b[0;32m-> 3812\u001b[0;31m             \u001b[0;32mraise\u001b[0m \u001b[0mKeyError\u001b[0m\u001b[0;34m(\u001b[0m\u001b[0mkey\u001b[0m\u001b[0;34m)\u001b[0m \u001b[0;32mfrom\u001b[0m \u001b[0merr\u001b[0m\u001b[0;34m\u001b[0m\u001b[0;34m\u001b[0m\u001b[0m\n\u001b[0m\u001b[1;32m   3813\u001b[0m         \u001b[0;32mexcept\u001b[0m \u001b[0mTypeError\u001b[0m\u001b[0;34m:\u001b[0m\u001b[0;34m\u001b[0m\u001b[0;34m\u001b[0m\u001b[0m\n\u001b[1;32m   3814\u001b[0m             \u001b[0;31m# If we have a listlike key, _check_indexing_error will raise\u001b[0m\u001b[0;34m\u001b[0m\u001b[0;34m\u001b[0m\u001b[0m\n",
            "\u001b[0;31mKeyError\u001b[0m: 'Record Creation'"
          ]
        }
      ]
    },
    {
      "cell_type": "code",
      "source": [
        "# Reload the first sheet with header=1 to skip the instructional row\n",
        "flier_raw_df = pd.read_excel(file_path, sheet_name='Frequent Flier Raw', header=1)\n",
        "\n",
        "# Print column names to confirm exact names\n",
        "print(\"Columns in 'Frequent Flier Raw':\")\n",
        "print(flier_raw_df.columns)"
      ],
      "metadata": {
        "colab": {
          "base_uri": "https://localhost:8080/"
        },
        "id": "L_WjNeTteS-U",
        "outputId": "e8007500-be5b-44ab-81ea-f0b8154b2c2e"
      },
      "execution_count": 91,
      "outputs": [
        {
          "output_type": "stream",
          "name": "stdout",
          "text": [
            "Columns in 'Frequent Flier Raw':\n",
            "Index(['Record Creation ', 'Frequent Flier Number', 'Join Date', 'First Name',\n",
            "       'Last Name', 'Inquiry Type', 'Most Recent Flight #', 'Lounge Used?',\n",
            "       'Departing Airport', 'Arrival Airport', 'Planned Snack?',\n",
            "       'Additional Snack?', '# of Included Checked Bags',\n",
            "       'Total # of Checked Bags', 'Flight Delayed?'],\n",
            "      dtype='object')\n"
          ]
        }
      ]
    },
    {
      "cell_type": "code",
      "source": [
        "# Display the first few rows to confirm loading\n",
        "print(flier_raw_df.head())\n"
      ],
      "metadata": {
        "colab": {
          "base_uri": "https://localhost:8080/"
        },
        "id": "vypWQwZuecS4",
        "outputId": "34af1495-3c3c-4128-9db1-2482fc4c6518"
      },
      "execution_count": 92,
      "outputs": [
        {
          "output_type": "stream",
          "name": "stdout",
          "text": [
            "  Record Creation   Frequent Flier Number            Join Date First Name  \\\n",
            "0       2024-02-27           7.234618e+09  1988-07-08 00:00:00     debbie   \n",
            "1       2021-03-07           7.234618e+09  1988-07-08 00:00:00     debbie   \n",
            "2       2023-01-31           7.234618e+09  1988-07-08 00:00:00     debbie   \n",
            "3       2021-08-21           5.511217e+08  2022-06-16 00:00:00       kyle   \n",
            "4       2022-03-01           5.511217e+08           16-06-2022       KYLE   \n",
            "\n",
            "  Last Name   Inquiry Type Most Recent Flight #  Lounge Used?  \\\n",
            "0    spears  Flight Status            G35206241           0.0   \n",
            "1    Spears     New Flight            V81311927           1.0   \n",
            "2    spears  Cancel Flight            H82295055           0.0   \n",
            "3     Boone     New Flight            E39886834           1.0   \n",
            "4     Boone     New Flight            R04390271           NaN   \n",
            "\n",
            "  Departing Airport Arrival Airport  Planned Snack?  Additional Snack?  \\\n",
            "0               DFW             DEN             0.0                1.0   \n",
            "1               JFK             SFO             0.0                1.0   \n",
            "2               MIA             ORD             0.0                0.0   \n",
            "3               ttt             NaN             0.0                1.0   \n",
            "4               SFO             DFW             0.0                0.0   \n",
            "\n",
            "   # of Included Checked Bags  Total # of Checked Bags  Flight Delayed?  \n",
            "0                         0.0                     16.0              1.0  \n",
            "1                         1.0                     21.0              0.0  \n",
            "2                         7.0                      5.0              1.0  \n",
            "3                         NaN                      8.0              0.0  \n",
            "4                         3.0                     17.0              0.0  \n"
          ]
        }
      ]
    },
    {
      "cell_type": "code",
      "source": [
        "# Convert 'Record Creation' and 'Join Date' to datetime\n",
        "flier_raw_df['Record Creation'] = pd.to_datetime(flier_raw_df['Record Creation'], errors='coerce')\n",
        "flier_raw_df['Join Date'] = pd.to_datetime(flier_raw_df['Join Date'], errors='coerce')\n",
        "\n",
        "# Convert float columns with 1.0 and 0.0 to True/False\n",
        "bool_columns = ['Lounge Used?', 'Planned Snack?', 'Additional Snack?', 'Flight Delayed?']\n",
        "for col in bool_columns:\n",
        "    flier_raw_df[col] = flier_raw_df[col].map({1.0: True, 0.0: False})\n",
        "\n",
        "# Verify the changes\n",
        "print(flier_raw_df[['Record Creation', 'Join Date']].head())\n",
        "print(flier_raw_df[bool_columns].head())\n"
      ],
      "metadata": {
        "colab": {
          "base_uri": "https://localhost:8080/",
          "height": 547
        },
        "id": "aAjhPqYPeqpZ",
        "outputId": "607c8ed4-00ef-46e4-deb0-28069290780c"
      },
      "execution_count": 93,
      "outputs": [
        {
          "output_type": "error",
          "ename": "KeyError",
          "evalue": "'Record Creation'",
          "traceback": [
            "\u001b[0;31m---------------------------------------------------------------------------\u001b[0m",
            "\u001b[0;31mKeyError\u001b[0m                                  Traceback (most recent call last)",
            "\u001b[0;32m/usr/local/lib/python3.10/dist-packages/pandas/core/indexes/base.py\u001b[0m in \u001b[0;36mget_loc\u001b[0;34m(self, key)\u001b[0m\n\u001b[1;32m   3804\u001b[0m         \u001b[0;32mtry\u001b[0m\u001b[0;34m:\u001b[0m\u001b[0;34m\u001b[0m\u001b[0;34m\u001b[0m\u001b[0m\n\u001b[0;32m-> 3805\u001b[0;31m             \u001b[0;32mreturn\u001b[0m \u001b[0mself\u001b[0m\u001b[0;34m.\u001b[0m\u001b[0m_engine\u001b[0m\u001b[0;34m.\u001b[0m\u001b[0mget_loc\u001b[0m\u001b[0;34m(\u001b[0m\u001b[0mcasted_key\u001b[0m\u001b[0;34m)\u001b[0m\u001b[0;34m\u001b[0m\u001b[0;34m\u001b[0m\u001b[0m\n\u001b[0m\u001b[1;32m   3806\u001b[0m         \u001b[0;32mexcept\u001b[0m \u001b[0mKeyError\u001b[0m \u001b[0;32mas\u001b[0m \u001b[0merr\u001b[0m\u001b[0;34m:\u001b[0m\u001b[0;34m\u001b[0m\u001b[0;34m\u001b[0m\u001b[0m\n",
            "\u001b[0;32mindex.pyx\u001b[0m in \u001b[0;36mpandas._libs.index.IndexEngine.get_loc\u001b[0;34m()\u001b[0m\n",
            "\u001b[0;32mindex.pyx\u001b[0m in \u001b[0;36mpandas._libs.index.IndexEngine.get_loc\u001b[0;34m()\u001b[0m\n",
            "\u001b[0;32mpandas/_libs/hashtable_class_helper.pxi\u001b[0m in \u001b[0;36mpandas._libs.hashtable.PyObjectHashTable.get_item\u001b[0;34m()\u001b[0m\n",
            "\u001b[0;32mpandas/_libs/hashtable_class_helper.pxi\u001b[0m in \u001b[0;36mpandas._libs.hashtable.PyObjectHashTable.get_item\u001b[0;34m()\u001b[0m\n",
            "\u001b[0;31mKeyError\u001b[0m: 'Record Creation'",
            "\nThe above exception was the direct cause of the following exception:\n",
            "\u001b[0;31mKeyError\u001b[0m                                  Traceback (most recent call last)",
            "\u001b[0;32m<ipython-input-93-ace7d1e21eec>\u001b[0m in \u001b[0;36m<cell line: 2>\u001b[0;34m()\u001b[0m\n\u001b[1;32m      1\u001b[0m \u001b[0;31m# Convert 'Record Creation' and 'Join Date' to datetime\u001b[0m\u001b[0;34m\u001b[0m\u001b[0;34m\u001b[0m\u001b[0m\n\u001b[0;32m----> 2\u001b[0;31m \u001b[0mflier_raw_df\u001b[0m\u001b[0;34m[\u001b[0m\u001b[0;34m'Record Creation'\u001b[0m\u001b[0;34m]\u001b[0m \u001b[0;34m=\u001b[0m \u001b[0mpd\u001b[0m\u001b[0;34m.\u001b[0m\u001b[0mto_datetime\u001b[0m\u001b[0;34m(\u001b[0m\u001b[0mflier_raw_df\u001b[0m\u001b[0;34m[\u001b[0m\u001b[0;34m'Record Creation'\u001b[0m\u001b[0;34m]\u001b[0m\u001b[0;34m,\u001b[0m \u001b[0merrors\u001b[0m\u001b[0;34m=\u001b[0m\u001b[0;34m'coerce'\u001b[0m\u001b[0;34m)\u001b[0m\u001b[0;34m\u001b[0m\u001b[0;34m\u001b[0m\u001b[0m\n\u001b[0m\u001b[1;32m      3\u001b[0m \u001b[0mflier_raw_df\u001b[0m\u001b[0;34m[\u001b[0m\u001b[0;34m'Join Date'\u001b[0m\u001b[0;34m]\u001b[0m \u001b[0;34m=\u001b[0m \u001b[0mpd\u001b[0m\u001b[0;34m.\u001b[0m\u001b[0mto_datetime\u001b[0m\u001b[0;34m(\u001b[0m\u001b[0mflier_raw_df\u001b[0m\u001b[0;34m[\u001b[0m\u001b[0;34m'Join Date'\u001b[0m\u001b[0;34m]\u001b[0m\u001b[0;34m,\u001b[0m \u001b[0merrors\u001b[0m\u001b[0;34m=\u001b[0m\u001b[0;34m'coerce'\u001b[0m\u001b[0;34m)\u001b[0m\u001b[0;34m\u001b[0m\u001b[0;34m\u001b[0m\u001b[0m\n\u001b[1;32m      4\u001b[0m \u001b[0;34m\u001b[0m\u001b[0m\n\u001b[1;32m      5\u001b[0m \u001b[0;31m# Convert float columns with 1.0 and 0.0 to True/False\u001b[0m\u001b[0;34m\u001b[0m\u001b[0;34m\u001b[0m\u001b[0m\n",
            "\u001b[0;32m/usr/local/lib/python3.10/dist-packages/pandas/core/frame.py\u001b[0m in \u001b[0;36m__getitem__\u001b[0;34m(self, key)\u001b[0m\n\u001b[1;32m   4100\u001b[0m             \u001b[0;32mif\u001b[0m \u001b[0mself\u001b[0m\u001b[0;34m.\u001b[0m\u001b[0mcolumns\u001b[0m\u001b[0;34m.\u001b[0m\u001b[0mnlevels\u001b[0m \u001b[0;34m>\u001b[0m \u001b[0;36m1\u001b[0m\u001b[0;34m:\u001b[0m\u001b[0;34m\u001b[0m\u001b[0;34m\u001b[0m\u001b[0m\n\u001b[1;32m   4101\u001b[0m                 \u001b[0;32mreturn\u001b[0m \u001b[0mself\u001b[0m\u001b[0;34m.\u001b[0m\u001b[0m_getitem_multilevel\u001b[0m\u001b[0;34m(\u001b[0m\u001b[0mkey\u001b[0m\u001b[0;34m)\u001b[0m\u001b[0;34m\u001b[0m\u001b[0;34m\u001b[0m\u001b[0m\n\u001b[0;32m-> 4102\u001b[0;31m             \u001b[0mindexer\u001b[0m \u001b[0;34m=\u001b[0m \u001b[0mself\u001b[0m\u001b[0;34m.\u001b[0m\u001b[0mcolumns\u001b[0m\u001b[0;34m.\u001b[0m\u001b[0mget_loc\u001b[0m\u001b[0;34m(\u001b[0m\u001b[0mkey\u001b[0m\u001b[0;34m)\u001b[0m\u001b[0;34m\u001b[0m\u001b[0;34m\u001b[0m\u001b[0m\n\u001b[0m\u001b[1;32m   4103\u001b[0m             \u001b[0;32mif\u001b[0m \u001b[0mis_integer\u001b[0m\u001b[0;34m(\u001b[0m\u001b[0mindexer\u001b[0m\u001b[0;34m)\u001b[0m\u001b[0;34m:\u001b[0m\u001b[0;34m\u001b[0m\u001b[0;34m\u001b[0m\u001b[0m\n\u001b[1;32m   4104\u001b[0m                 \u001b[0mindexer\u001b[0m \u001b[0;34m=\u001b[0m \u001b[0;34m[\u001b[0m\u001b[0mindexer\u001b[0m\u001b[0;34m]\u001b[0m\u001b[0;34m\u001b[0m\u001b[0;34m\u001b[0m\u001b[0m\n",
            "\u001b[0;32m/usr/local/lib/python3.10/dist-packages/pandas/core/indexes/base.py\u001b[0m in \u001b[0;36mget_loc\u001b[0;34m(self, key)\u001b[0m\n\u001b[1;32m   3810\u001b[0m             ):\n\u001b[1;32m   3811\u001b[0m                 \u001b[0;32mraise\u001b[0m \u001b[0mInvalidIndexError\u001b[0m\u001b[0;34m(\u001b[0m\u001b[0mkey\u001b[0m\u001b[0;34m)\u001b[0m\u001b[0;34m\u001b[0m\u001b[0;34m\u001b[0m\u001b[0m\n\u001b[0;32m-> 3812\u001b[0;31m             \u001b[0;32mraise\u001b[0m \u001b[0mKeyError\u001b[0m\u001b[0;34m(\u001b[0m\u001b[0mkey\u001b[0m\u001b[0;34m)\u001b[0m \u001b[0;32mfrom\u001b[0m \u001b[0merr\u001b[0m\u001b[0;34m\u001b[0m\u001b[0;34m\u001b[0m\u001b[0m\n\u001b[0m\u001b[1;32m   3813\u001b[0m         \u001b[0;32mexcept\u001b[0m \u001b[0mTypeError\u001b[0m\u001b[0;34m:\u001b[0m\u001b[0;34m\u001b[0m\u001b[0;34m\u001b[0m\u001b[0m\n\u001b[1;32m   3814\u001b[0m             \u001b[0;31m# If we have a listlike key, _check_indexing_error will raise\u001b[0m\u001b[0;34m\u001b[0m\u001b[0;34m\u001b[0m\u001b[0m\n",
            "\u001b[0;31mKeyError\u001b[0m: 'Record Creation'"
          ]
        }
      ]
    },
    {
      "cell_type": "code",
      "source": [
        "# Strip any leading or trailing spaces from column names\n",
        "flier_raw_df.columns = flier_raw_df.columns.str.strip()\n",
        "\n",
        "# Verify the cleaned column names\n",
        "print(\"Cleaned Column Names:\", flier_raw_df.columns)\n",
        "\n",
        "# Now, reattempt to convert 'Record Creation' and 'Join Date' to datetime\n",
        "flier_raw_df['Record Creation'] = pd.to_datetime(flier_raw_df['Record Creation'], errors='coerce')\n",
        "flier_raw_df['Join Date'] = pd.to_datetime(flier_raw_df['Join Date'], errors='coerce')\n",
        "\n",
        "# Convert float columns with 1.0 and 0.0 to True/False\n",
        "bool_columns = ['Lounge Used?', 'Planned Snack?', 'Additional Snack?', 'Flight Delayed?']\n",
        "for col in bool_columns:\n",
        "    flier_raw_df[col] = flier_raw_df[col].map({1.0: True, 0.0: False})\n",
        "\n",
        "# Verify the changes\n",
        "print(flier_raw_df[['Record Creation', 'Join Date']].head())\n",
        "print(flier_raw_df[bool_columns].head())\n"
      ],
      "metadata": {
        "colab": {
          "base_uri": "https://localhost:8080/"
        },
        "id": "InmFmN7Ve-vk",
        "outputId": "182f68c6-be47-4f13-c70a-3ae162ac7109"
      },
      "execution_count": 94,
      "outputs": [
        {
          "output_type": "stream",
          "name": "stdout",
          "text": [
            "Cleaned Column Names: Index(['Record Creation', 'Frequent Flier Number', 'Join Date', 'First Name',\n",
            "       'Last Name', 'Inquiry Type', 'Most Recent Flight #', 'Lounge Used?',\n",
            "       'Departing Airport', 'Arrival Airport', 'Planned Snack?',\n",
            "       'Additional Snack?', '# of Included Checked Bags',\n",
            "       'Total # of Checked Bags', 'Flight Delayed?'],\n",
            "      dtype='object')\n",
            "  Record Creation  Join Date\n",
            "0      2024-02-27 1988-07-08\n",
            "1      2021-03-07 1988-07-08\n",
            "2      2023-01-31 1988-07-08\n",
            "3      2021-08-21 2022-06-16\n",
            "4      2022-03-01 2022-06-16\n",
            "  Lounge Used? Planned Snack? Additional Snack? Flight Delayed?\n",
            "0        False          False              True            True\n",
            "1         True          False              True           False\n",
            "2        False          False             False            True\n",
            "3         True          False              True           False\n",
            "4          NaN          False             False           False\n"
          ]
        }
      ]
    },
    {
      "cell_type": "code",
      "source": [
        "# Fill missing numeric values with 0\n",
        "numeric_cols = ['Frequent Flier Number', '# of Included Checked Bags', 'Total # of Checked Bags']\n",
        "for col in numeric_cols:\n",
        "    flier_raw_df[col] = flier_raw_df[col].fillna(0)\n",
        "\n",
        "# Fill missing categorical values with 'Unknown'\n",
        "categorical_cols = ['First Name', 'Last Name', 'Inquiry Type',\n",
        "                    'Most Recent Flight #', 'Departing Airport', 'Arrival Airport']\n",
        "for col in categorical_cols:\n",
        "    flier_raw_df[col] = flier_raw_df[col].fillna('Unknown')\n",
        "\n",
        "# Fill remaining NaN values in Boolean columns with False\n",
        "for col in bool_columns:\n",
        "    flier_raw_df[col] = flier_raw_df[col].fillna(False)\n",
        "\n",
        "# Verify the changes by checking for any remaining missing values\n",
        "print(\"Missing Values After Filling:\")\n",
        "print(flier_raw_df.isnull().sum())\n"
      ],
      "metadata": {
        "colab": {
          "base_uri": "https://localhost:8080/"
        },
        "id": "IQ7zxaLzfHLN",
        "outputId": "6c1f03cb-7252-4a20-b5c9-6965cd3816a6"
      },
      "execution_count": 95,
      "outputs": [
        {
          "output_type": "stream",
          "name": "stdout",
          "text": [
            "Missing Values After Filling:\n",
            "Record Creation               461\n",
            "Frequent Flier Number           0\n",
            "Join Date                     535\n",
            "First Name                      0\n",
            "Last Name                       0\n",
            "Inquiry Type                    0\n",
            "Most Recent Flight #            0\n",
            "Lounge Used?                    0\n",
            "Departing Airport               0\n",
            "Arrival Airport                 0\n",
            "Planned Snack?                  0\n",
            "Additional Snack?               0\n",
            "# of Included Checked Bags      0\n",
            "Total # of Checked Bags         0\n",
            "Flight Delayed?                 0\n",
            "dtype: int64\n"
          ]
        },
        {
          "output_type": "stream",
          "name": "stderr",
          "text": [
            "<ipython-input-95-93bfbf15867f>:14: FutureWarning: Downcasting object dtype arrays on .fillna, .ffill, .bfill is deprecated and will change in a future version. Call result.infer_objects(copy=False) instead. To opt-in to the future behavior, set `pd.set_option('future.no_silent_downcasting', True)`\n",
            "  flier_raw_df[col] = flier_raw_df[col].fillna(False)\n"
          ]
        }
      ]
    },
    {
      "cell_type": "code",
      "source": [
        "# Fill missing dates with pd.NaT (Not a Time) to indicate missing date data\n",
        "flier_raw_df['Record Creation'] = flier_raw_df['Record Creation'].fillna(pd.NaT)\n",
        "flier_raw_df['Join Date'] = flier_raw_df['Join Date'].fillna(pd.NaT)\n",
        "\n",
        "# Verify if any missing values remain\n",
        "print(\"Final Check for Missing Values:\")\n",
        "print(flier_raw_df.isnull().sum())\n"
      ],
      "metadata": {
        "colab": {
          "base_uri": "https://localhost:8080/"
        },
        "id": "QPHERdmqfTW9",
        "outputId": "cca5b696-c26d-4f55-c63a-900cefe8d1cf"
      },
      "execution_count": 96,
      "outputs": [
        {
          "output_type": "stream",
          "name": "stdout",
          "text": [
            "Final Check for Missing Values:\n",
            "Record Creation               461\n",
            "Frequent Flier Number           0\n",
            "Join Date                     535\n",
            "First Name                      0\n",
            "Last Name                       0\n",
            "Inquiry Type                    0\n",
            "Most Recent Flight #            0\n",
            "Lounge Used?                    0\n",
            "Departing Airport               0\n",
            "Arrival Airport                 0\n",
            "Planned Snack?                  0\n",
            "Additional Snack?               0\n",
            "# of Included Checked Bags      0\n",
            "Total # of Checked Bags         0\n",
            "Flight Delayed?                 0\n",
            "dtype: int64\n"
          ]
        }
      ]
    },
    {
      "cell_type": "code",
      "source": [],
      "metadata": {
        "id": "MkYKNKkQf6uK"
      },
      "execution_count": null,
      "outputs": []
    },
    {
      "cell_type": "code",
      "source": [
        "# Drop rows where 'Record Creation' or 'Join Date' is missing\n",
        "flier_raw_df.dropna(subset=['Record Creation', 'Join Date'], inplace=True)\n",
        "\n",
        "# Verify that there are no remaining missing values\n",
        "print(\"Check for Missing Values After Dropping Rows:\")\n",
        "print(flier_raw_df.isnull().sum())\n"
      ],
      "metadata": {
        "colab": {
          "base_uri": "https://localhost:8080/"
        },
        "id": "-6Xgfua7feO_",
        "outputId": "54a048dc-9947-4767-ad1c-096bf0f33864"
      },
      "execution_count": 97,
      "outputs": [
        {
          "output_type": "stream",
          "name": "stdout",
          "text": [
            "Check for Missing Values After Dropping Rows:\n",
            "Record Creation               0\n",
            "Frequent Flier Number         0\n",
            "Join Date                     0\n",
            "First Name                    0\n",
            "Last Name                     0\n",
            "Inquiry Type                  0\n",
            "Most Recent Flight #          0\n",
            "Lounge Used?                  0\n",
            "Departing Airport             0\n",
            "Arrival Airport               0\n",
            "Planned Snack?                0\n",
            "Additional Snack?             0\n",
            "# of Included Checked Bags    0\n",
            "Total # of Checked Bags       0\n",
            "Flight Delayed?               0\n",
            "dtype: int64\n"
          ]
        }
      ]
    },
    {
      "cell_type": "code",
      "source": [
        "# Summary of Cleaning Steps for Frequent Flier Raw Converted Record Creation and Join Date to datetime.\n",
        "# Converted Boolean-like columns to True and False.\n",
        "# Filled missing values in numeric columns with 0.\n",
        "# Filled missing categorical columns with \"Unknown\".\n",
        "# Dropped rows with missing dates in Record Creation and Join Date (since they were critical)."
      ],
      "metadata": {
        "id": "NRcFRr4Xfpcb"
      },
      "execution_count": null,
      "outputs": []
    }
  ]
}
